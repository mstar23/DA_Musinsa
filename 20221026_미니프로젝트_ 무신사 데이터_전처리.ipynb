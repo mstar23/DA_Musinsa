{
 "cells": [
  {
   "cell_type": "code",
   "execution_count": 2,
   "metadata": {},
   "outputs": [],
   "source": [
    "import pandas as pd\n",
    "import numpy as np"
   ]
  },
  {
   "cell_type": "markdown",
   "metadata": {},
   "source": [
    "# api 목적:\n",
    "### 무신사 크롤링을 통해\n",
    "#### 10월 옷 카테고리별 ( 아우터, 상의, 팬츠, 신발, 모자, 속옷, 양말) 가장 많이 구매한 상품 도출"
   ]
  },
  {
   "cell_type": "markdown",
   "metadata": {},
   "source": [
    "## 업무분배:\n",
    "#### 데이터 크롤링 - 지예\n",
    "#### 데이터 전처리 - 지예, 창언, 혜성\n",
    "#### 데이터 시각화 - 은성\n",
    "#### 발표 - 창언"
   ]
  },
  {
   "cell_type": "code",
   "execution_count": 3,
   "metadata": {
    "scrolled": false
   },
   "outputs": [
    {
     "data": {
      "text/html": [
       "<div>\n",
       "<style scoped>\n",
       "    .dataframe tbody tr th:only-of-type {\n",
       "        vertical-align: middle;\n",
       "    }\n",
       "\n",
       "    .dataframe tbody tr th {\n",
       "        vertical-align: top;\n",
       "    }\n",
       "\n",
       "    .dataframe thead th {\n",
       "        text-align: right;\n",
       "    }\n",
       "</style>\n",
       "<table border=\"1\" class=\"dataframe\">\n",
       "  <thead>\n",
       "    <tr style=\"text-align: right;\">\n",
       "      <th></th>\n",
       "      <th>Unnamed: 0</th>\n",
       "      <th>상품명</th>\n",
       "      <th>가격</th>\n",
       "    </tr>\n",
       "  </thead>\n",
       "  <tbody>\n",
       "    <tr>\n",
       "      <th>0</th>\n",
       "      <td>0</td>\n",
       "      <td>(22FW) 2 TONE ARCH HOODIE GRAY</td>\n",
       "      <td>67,150원</td>\n",
       "    </tr>\n",
       "    <tr>\n",
       "      <th>1</th>\n",
       "      <td>1</td>\n",
       "      <td>원턱 와이드 스웨트팬츠 그레이</td>\n",
       "      <td>36,400원</td>\n",
       "    </tr>\n",
       "    <tr>\n",
       "      <th>2</th>\n",
       "      <td>2</td>\n",
       "      <td>Deep One Tuck Sweat Pants [Grey]</td>\n",
       "      <td>39,000원</td>\n",
       "    </tr>\n",
       "    <tr>\n",
       "      <th>3</th>\n",
       "      <td>3</td>\n",
       "      <td>2WAY 스웻 후드 집업 (MELANGE GREY)</td>\n",
       "      <td>42,000원</td>\n",
       "    </tr>\n",
       "    <tr>\n",
       "      <th>4</th>\n",
       "      <td>4</td>\n",
       "      <td>레플리카 퍼티그 팬츠 [카키]</td>\n",
       "      <td>43,900원</td>\n",
       "    </tr>\n",
       "    <tr>\n",
       "      <th>...</th>\n",
       "      <td>...</td>\n",
       "      <td>...</td>\n",
       "      <td>...</td>\n",
       "    </tr>\n",
       "    <tr>\n",
       "      <th>895</th>\n",
       "      <td>895</td>\n",
       "      <td>리버서블 푸퍼_SPJDC4VC14</td>\n",
       "      <td>89,900원</td>\n",
       "    </tr>\n",
       "    <tr>\n",
       "      <th>896</th>\n",
       "      <td>896</td>\n",
       "      <td>NSW 클럽 트레이닝바지 BV2714-010</td>\n",
       "      <td>62,000원</td>\n",
       "    </tr>\n",
       "    <tr>\n",
       "      <th>897</th>\n",
       "      <td>897</td>\n",
       "      <td>N224WFJ910 여성 코스토니 플리스 뽀글이 후드 풀집업 CARBON BLACK</td>\n",
       "      <td>159,000원</td>\n",
       "    </tr>\n",
       "    <tr>\n",
       "      <th>898</th>\n",
       "      <td>898</td>\n",
       "      <td>스웨트 팬츠 [멜란지 그레이]</td>\n",
       "      <td>31,900원</td>\n",
       "    </tr>\n",
       "    <tr>\n",
       "      <th>899</th>\n",
       "      <td>899</td>\n",
       "      <td>oam.factory X PLAC  스텝 M22 미드 블루</td>\n",
       "      <td>89,000원</td>\n",
       "    </tr>\n",
       "  </tbody>\n",
       "</table>\n",
       "<p>900 rows × 3 columns</p>\n",
       "</div>"
      ],
      "text/plain": [
       "     Unnamed: 0                                             상품명        가격\n",
       "0             0                  (22FW) 2 TONE ARCH HOODIE GRAY   67,150원\n",
       "1             1                                원턱 와이드 스웨트팬츠 그레이   36,400원\n",
       "2             2                Deep One Tuck Sweat Pants [Grey]   39,000원\n",
       "3             3                    2WAY 스웻 후드 집업 (MELANGE GREY)   42,000원\n",
       "4             4                                레플리카 퍼티그 팬츠 [카키]   43,900원\n",
       "..          ...                                             ...       ...\n",
       "895         895                              리버서블 푸퍼_SPJDC4VC14   89,900원\n",
       "896         896                        NSW 클럽 트레이닝바지 BV2714-010   62,000원\n",
       "897         897  N224WFJ910 여성 코스토니 플리스 뽀글이 후드 풀집업 CARBON BLACK  159,000원\n",
       "898         898                                스웨트 팬츠 [멜란지 그레이]   31,900원\n",
       "899         899                oam.factory X PLAC  스텝 M22 미드 블루   89,000원\n",
       "\n",
       "[900 rows x 3 columns]"
      ]
     },
     "execution_count": 3,
     "metadata": {},
     "output_type": "execute_result"
    }
   ],
   "source": [
    "# csv파일 불러오기\n",
    "df1 = pd.read_csv('product_nameprice.csv',encoding='cp949')\n",
    "df1"
   ]
  },
  {
   "cell_type": "code",
   "execution_count": 118,
   "metadata": {},
   "outputs": [
    {
     "data": {
      "text/html": [
       "<div>\n",
       "<style scoped>\n",
       "    .dataframe tbody tr th:only-of-type {\n",
       "        vertical-align: middle;\n",
       "    }\n",
       "\n",
       "    .dataframe tbody tr th {\n",
       "        vertical-align: top;\n",
       "    }\n",
       "\n",
       "    .dataframe thead th {\n",
       "        text-align: right;\n",
       "    }\n",
       "</style>\n",
       "<table border=\"1\" class=\"dataframe\">\n",
       "  <thead>\n",
       "    <tr style=\"text-align: right;\">\n",
       "      <th></th>\n",
       "      <th>상품명</th>\n",
       "      <th>가격</th>\n",
       "    </tr>\n",
       "  </thead>\n",
       "  <tbody>\n",
       "    <tr>\n",
       "      <th>0</th>\n",
       "      <td>(22FW) 2 TONE ARCH HOODIE GRAY</td>\n",
       "      <td>67,150원</td>\n",
       "    </tr>\n",
       "    <tr>\n",
       "      <th>1</th>\n",
       "      <td>원턱 와이드 스웨트팬츠 그레이</td>\n",
       "      <td>36,400원</td>\n",
       "    </tr>\n",
       "    <tr>\n",
       "      <th>2</th>\n",
       "      <td>Deep One Tuck Sweat Pants [Grey]</td>\n",
       "      <td>39,000원</td>\n",
       "    </tr>\n",
       "    <tr>\n",
       "      <th>3</th>\n",
       "      <td>2WAY 스웻 후드 집업 (MELANGE GREY)</td>\n",
       "      <td>42,000원</td>\n",
       "    </tr>\n",
       "    <tr>\n",
       "      <th>4</th>\n",
       "      <td>레플리카 퍼티그 팬츠 [카키]</td>\n",
       "      <td>43,900원</td>\n",
       "    </tr>\n",
       "    <tr>\n",
       "      <th>...</th>\n",
       "      <td>...</td>\n",
       "      <td>...</td>\n",
       "    </tr>\n",
       "    <tr>\n",
       "      <th>895</th>\n",
       "      <td>리버서블 푸퍼_SPJDC4VC14</td>\n",
       "      <td>89,900원</td>\n",
       "    </tr>\n",
       "    <tr>\n",
       "      <th>896</th>\n",
       "      <td>NSW 클럽 트레이닝바지 BV2714-010</td>\n",
       "      <td>62,000원</td>\n",
       "    </tr>\n",
       "    <tr>\n",
       "      <th>897</th>\n",
       "      <td>N224WFJ910 여성 코스토니 플리스 뽀글이 후드 풀집업 CARBON BLACK</td>\n",
       "      <td>159,000원</td>\n",
       "    </tr>\n",
       "    <tr>\n",
       "      <th>898</th>\n",
       "      <td>스웨트 팬츠 [멜란지 그레이]</td>\n",
       "      <td>31,900원</td>\n",
       "    </tr>\n",
       "    <tr>\n",
       "      <th>899</th>\n",
       "      <td>oam.factory X PLAC  스텝 M22 미드 블루</td>\n",
       "      <td>89,000원</td>\n",
       "    </tr>\n",
       "  </tbody>\n",
       "</table>\n",
       "<p>900 rows × 2 columns</p>\n",
       "</div>"
      ],
      "text/plain": [
       "                                                상품명        가격\n",
       "0                    (22FW) 2 TONE ARCH HOODIE GRAY   67,150원\n",
       "1                                  원턱 와이드 스웨트팬츠 그레이   36,400원\n",
       "2                  Deep One Tuck Sweat Pants [Grey]   39,000원\n",
       "3                      2WAY 스웻 후드 집업 (MELANGE GREY)   42,000원\n",
       "4                                  레플리카 퍼티그 팬츠 [카키]   43,900원\n",
       "..                                              ...       ...\n",
       "895                              리버서블 푸퍼_SPJDC4VC14   89,900원\n",
       "896                        NSW 클럽 트레이닝바지 BV2714-010   62,000원\n",
       "897  N224WFJ910 여성 코스토니 플리스 뽀글이 후드 풀집업 CARBON BLACK  159,000원\n",
       "898                                스웨트 팬츠 [멜란지 그레이]   31,900원\n",
       "899                oam.factory X PLAC  스텝 M22 미드 블루   89,000원\n",
       "\n",
       "[900 rows x 2 columns]"
      ]
     },
     "execution_count": 118,
     "metadata": {},
     "output_type": "execute_result"
    }
   ],
   "source": [
    "# drop 함수 파라미터인 axis이용해서 필요없는 열 삭제\n",
    "df1.drop('Unnamed: 0',axis=1, inplace=True)\n",
    "df1"
   ]
  },
  {
   "cell_type": "code",
   "execution_count": 7,
   "metadata": {},
   "outputs": [
    {
     "data": {
      "text/html": [
       "<div>\n",
       "<style scoped>\n",
       "    .dataframe tbody tr th:only-of-type {\n",
       "        vertical-align: middle;\n",
       "    }\n",
       "\n",
       "    .dataframe tbody tr th {\n",
       "        vertical-align: top;\n",
       "    }\n",
       "\n",
       "    .dataframe thead th {\n",
       "        text-align: right;\n",
       "    }\n",
       "</style>\n",
       "<table border=\"1\" class=\"dataframe\">\n",
       "  <thead>\n",
       "    <tr style=\"text-align: right;\">\n",
       "      <th></th>\n",
       "      <th>아우터</th>\n",
       "      <th>상의</th>\n",
       "      <th>하의</th>\n",
       "      <th>기타</th>\n",
       "      <th>한벌옷</th>\n",
       "      <th>신발</th>\n",
       "    </tr>\n",
       "  </thead>\n",
       "  <tbody>\n",
       "    <tr>\n",
       "      <th>품목별판매량</th>\n",
       "      <td>0</td>\n",
       "      <td>1</td>\n",
       "      <td>2</td>\n",
       "      <td>3</td>\n",
       "      <td>4</td>\n",
       "      <td>5</td>\n",
       "    </tr>\n",
       "  </tbody>\n",
       "</table>\n",
       "</div>"
      ],
      "text/plain": [
       "        아우터  상의  하의  기타  한벌옷  신발\n",
       "품목별판매량    0   1   2   3    4   5"
      ]
     },
     "execution_count": 7,
     "metadata": {},
     "output_type": "execute_result"
    }
   ],
   "source": [
    "# 품목별판매량\n",
    "subs = pd.DataFrame(np.arange(6).reshape(1, 6),\n",
    "                 index=['품목별판매량'],\n",
    "                 columns=['아우터', '상의', '하의','기타','한벌옷','신발'])\n",
    "subs"
   ]
  },
  {
   "cell_type": "code",
   "execution_count": 5,
   "metadata": {},
   "outputs": [
    {
     "data": {
      "text/html": [
       "<div>\n",
       "<style scoped>\n",
       "    .dataframe tbody tr th:only-of-type {\n",
       "        vertical-align: middle;\n",
       "    }\n",
       "\n",
       "    .dataframe tbody tr th {\n",
       "        vertical-align: top;\n",
       "    }\n",
       "\n",
       "    .dataframe thead th {\n",
       "        text-align: right;\n",
       "    }\n",
       "</style>\n",
       "<table border=\"1\" class=\"dataframe\">\n",
       "  <thead>\n",
       "    <tr style=\"text-align: right;\">\n",
       "      <th></th>\n",
       "      <th>5만원이하</th>\n",
       "      <th>5만초과~10만이하</th>\n",
       "      <th>10만초과~15만이하</th>\n",
       "      <th>15만초과~20만이하</th>\n",
       "      <th>20만초과</th>\n",
       "    </tr>\n",
       "  </thead>\n",
       "  <tbody>\n",
       "    <tr>\n",
       "      <th>가격별판매량</th>\n",
       "      <td>0</td>\n",
       "      <td>1</td>\n",
       "      <td>2</td>\n",
       "      <td>3</td>\n",
       "      <td>4</td>\n",
       "    </tr>\n",
       "  </tbody>\n",
       "</table>\n",
       "</div>"
      ],
      "text/plain": [
       "        5만원이하  5만초과~10만이하  10만초과~15만이하  15만초과~20만이하  20만초과\n",
       "가격별판매량      0           1            2            3      4"
      ]
     },
     "execution_count": 5,
     "metadata": {},
     "output_type": "execute_result"
    }
   ],
   "source": [
    "# 가격별판매량\n",
    "sbp = pd.DataFrame(np.arange(5).reshape(1, 5),\n",
    "                 index=['가격별판매량'],\n",
    "                 columns=['5만원이하','5만초과~10만이하', '10만초과~15만이하', '15만초과~20만이하','20만초과'])\n",
    "sbp"
   ]
  },
  {
   "cell_type": "code",
   "execution_count": 174,
   "metadata": {},
   "outputs": [
    {
     "name": "stdout",
     "output_type": "stream",
     "text": [
      "124\n"
     ]
    }
   ],
   "source": [
    "# 하의 수\n",
    "pants = df1[df1['상품명'].str.contains('JEANS')|df1['상품명'].str.contains('슬랙스')|df1['상품명'].str.contains('팬츠')|df1['상품명'].str.contains('Pants')|df1['상품명'].str.contains('Cowboy')|df1['상품명'].str.contains('조거')|df1['상품명'].str.contains('jogger')|df1['상품명'].str.contains('Forik')|df1['상품명'].str.contains('fit')|df1['상품명'].str.contains('플랙')]\n",
    "print(len(pants))"
   ]
  },
  {
   "cell_type": "code",
   "execution_count": 185,
   "metadata": {},
   "outputs": [
    {
     "data": {
      "text/plain": [
       "259"
      ]
     },
     "execution_count": 185,
     "metadata": {},
     "output_type": "execute_result"
    }
   ],
   "source": [
    "# 아우터 수\n",
    "outer = df1[df1['상품명'].str.contains('자켓')|df1['상품명'].str.contains('슬라이드')|df1['상품명'].str.contains('점퍼')|df1['상품명'].str.contains('블레이저')|df1['상품명'].str.contains('블루종')|df1['상품명'].str.contains('파카')|df1['상품명'].str.contains('코트')|df1['상품명'].str.contains('COAT')|df1['상품명'].str.contains('푸퍼')|df1['상품명'].str.contains('JACKET')|df1['상품명'].str.contains('패딩')|df1['상품명'].str.contains('가디건')|df1['상품명'].str.contains('MA-1')|df1['상품명'].str.contains('parka')|df1['상품명'].str.contains('저지')|df1['상품명'].str.contains('덕다운')|df1['상품명'].str.contains('DUCK')|df1['상품명'].str.contains('jacket')|df1['상품명'].str.contains('아노락')|df1['상품명'].str.contains('파카')|df1['상품명'].str.contains('Parka')|df1['상품명'].str.contains('DOWN')]\n",
    "len(outer)"
   ]
  },
  {
   "cell_type": "code",
   "execution_count": 186,
   "metadata": {},
   "outputs": [
    {
     "data": {
      "text/plain": [
       "339"
      ]
     },
     "execution_count": 186,
     "metadata": {},
     "output_type": "execute_result"
    }
   ],
   "source": [
    "# 상의 수\n",
    "shirt = df1[df1['상품명'].str.contains('HOODIE')|df1['상품명'].str.contains('NIT')|df1['상품명'].str.contains('후드')|df1['상품명'].str.contains('니트')|df1['상품명'].str.contains('집업')|df1['상품명'].str.contains('맨투맨')|df1['상품명'].str.contains('반팔')|df1['상품명'].str.contains('티셔츠')|df1['상품명'].str.contains('셔츠')|df1['상품명'].str.contains('가디건')|df1['상품명'].str.contains('Sweat')|df1['상품명'].str.contains('티')|df1['상품명'].str.contains('ZIP UP')]\n",
    "len(shirt)"
   ]
  },
  {
   "cell_type": "code",
   "execution_count": 187,
   "metadata": {},
   "outputs": [
    {
     "name": "stdout",
     "output_type": "stream",
     "text": [
      "14\n"
     ]
    }
   ],
   "source": [
    "# 한벌옷 수\n",
    "setup = df1[df1['상품명'].str.contains('셋업')]\n",
    "print(len(setup))"
   ]
  },
  {
   "cell_type": "code",
   "execution_count": 193,
   "metadata": {},
   "outputs": [
    {
     "data": {
      "text/plain": [
       "50"
      ]
     },
     "execution_count": 193,
     "metadata": {},
     "output_type": "execute_result"
    }
   ],
   "source": [
    "# 기타(가방,양말,속옷,모자)\n",
    "etc = df1[df1['상품명'].str.contains('백')|df1['상품명'].str.contains('삭스')|df1['상품명'].str.contains('팬티')|df1['상품명'].str.contains('드로즈')|df1['상품명'].str.contains('모자')|df1['상품명'].str.contains('캡')|df1['상품명'].str.contains('cap')|df1['상품명'].str.contains('pack')|df1['상품명'].str.contains('bag')|df1['상품명'].str.contains('아미')|df1['상품명'].str.contains('WALLET')|df1['상품명'].str.contains('BUCKET')|df1['상품명'].str.contains('벤트')|df1['상품명'].str.contains('Turn')|df1['상품명'].str.contains('비니')|df1['상품명'].str.contains('빅볼')|df1['상품명'].str.contains('GLASS')]\n",
    "len(etc)"
   ]
  },
  {
   "cell_type": "code",
   "execution_count": 194,
   "metadata": {},
   "outputs": [
    {
     "data": {
      "text/plain": [
       "84"
      ]
     },
     "execution_count": 194,
     "metadata": {},
     "output_type": "execute_result"
    }
   ],
   "source": [
    "# 신발 수\n",
    "shoes= df1[df1['상품명'].str.contains('척 70')|df1['상품명'].str.contains('더비')|df1['상품명'].str.contains('올드스쿨')|df1['상품명'].str.contains('슈퍼스타')|df1['상품명'].str.contains('첼시')|df1['상품명'].str.contains('젤')|df1['상품명'].str.contains('슈즈')|df1['상품명'].str.contains('스타일 36')|df1['상품명'].str.contains('데이브레이크')|df1['상품명'].str.contains('운동화')|df1['상품명'].str.contains('오즈위고')|df1['상품명'].str.contains('스니커즈')|df1['상품명'].str.contains('슬라이드')|df1['상품명'].str.contains('BW')|df1['상품명'].str.contains('어센틱')|df1['상품명'].str.contains('1461')|df1['상품명'].str.contains('xt-6')|df1['상품명'].str.contains('파스텔')|df1['상품명'].str.contains('아미')]\n",
    "len(shoes)"
   ]
  },
  {
   "cell_type": "code",
   "execution_count": 195,
   "metadata": {},
   "outputs": [
    {
     "data": {
      "text/html": [
       "<div>\n",
       "<style scoped>\n",
       "    .dataframe tbody tr th:only-of-type {\n",
       "        vertical-align: middle;\n",
       "    }\n",
       "\n",
       "    .dataframe tbody tr th {\n",
       "        vertical-align: top;\n",
       "    }\n",
       "\n",
       "    .dataframe thead th {\n",
       "        text-align: right;\n",
       "    }\n",
       "</style>\n",
       "<table border=\"1\" class=\"dataframe\">\n",
       "  <thead>\n",
       "    <tr style=\"text-align: right;\">\n",
       "      <th></th>\n",
       "      <th>상품명</th>\n",
       "      <th>가격</th>\n",
       "    </tr>\n",
       "  </thead>\n",
       "  <tbody>\n",
       "    <tr>\n",
       "      <th>0</th>\n",
       "      <td>오버핏 비건레더 싱글 자켓</td>\n",
       "      <td>89,000원</td>\n",
       "    </tr>\n",
       "    <tr>\n",
       "      <th>1</th>\n",
       "      <td>N224MDW920 헤론 U넥 경량 다운 점퍼 CARBON BLACK</td>\n",
       "      <td>149,000원</td>\n",
       "    </tr>\n",
       "    <tr>\n",
       "      <th>2</th>\n",
       "      <td>MA-1 레귤러 Black</td>\n",
       "      <td>279,000원</td>\n",
       "    </tr>\n",
       "    <tr>\n",
       "      <th>3</th>\n",
       "      <td>릴렉스드 베이식 블레이저 [블랙]</td>\n",
       "      <td>81,900원</td>\n",
       "    </tr>\n",
       "    <tr>\n",
       "      <th>4</th>\n",
       "      <td>버핑레더 오버핏 블루종_Black</td>\n",
       "      <td>69,900원</td>\n",
       "    </tr>\n",
       "    <tr>\n",
       "      <th>...</th>\n",
       "      <td>...</td>\n",
       "      <td>...</td>\n",
       "    </tr>\n",
       "    <tr>\n",
       "      <th>865</th>\n",
       "      <td>Turn me On Black - MOD1w</td>\n",
       "      <td>84,800원</td>\n",
       "    </tr>\n",
       "    <tr>\n",
       "      <th>866</th>\n",
       "      <td>폴로 치노 베이스볼 캡-누벅</td>\n",
       "      <td>79,000원</td>\n",
       "    </tr>\n",
       "    <tr>\n",
       "      <th>867</th>\n",
       "      <td>앱솔루트 백팩 블랙</td>\n",
       "      <td>79,000원</td>\n",
       "    </tr>\n",
       "    <tr>\n",
       "      <th>868</th>\n",
       "      <td>버핑레더 문 슬링백_Black</td>\n",
       "      <td>39,900원</td>\n",
       "    </tr>\n",
       "    <tr>\n",
       "      <th>869</th>\n",
       "      <td>TCM bgc cap</td>\n",
       "      <td>39,000원</td>\n",
       "    </tr>\n",
       "  </tbody>\n",
       "</table>\n",
       "<p>870 rows × 2 columns</p>\n",
       "</div>"
      ],
      "text/plain": [
       "                                        상품명        가격\n",
       "0                            오버핏 비건레더 싱글 자켓   89,000원\n",
       "1    N224MDW920 헤론 U넥 경량 다운 점퍼 CARBON BLACK  149,000원\n",
       "2                            MA-1 레귤러 Black  279,000원\n",
       "3                        릴렉스드 베이식 블레이저 [블랙]   81,900원\n",
       "4                        버핑레더 오버핏 블루종_Black   69,900원\n",
       "..                                      ...       ...\n",
       "865                Turn me On Black - MOD1w   84,800원\n",
       "866                         폴로 치노 베이스볼 캡-누벅   79,000원\n",
       "867                              앱솔루트 백팩 블랙   79,000원\n",
       "868                        버핑레더 문 슬링백_Black   39,900원\n",
       "869                             TCM bgc cap   39,000원\n",
       "\n",
       "[870 rows x 2 columns]"
      ]
     },
     "execution_count": 195,
     "metadata": {},
     "output_type": "execute_result"
    }
   ],
   "source": [
    "# 총 개수\n",
    "total = pd.concat([outer,shirt,pants,setup,shoes,etc],ignore_index=True)\n",
    "total"
   ]
  },
  {
   "cell_type": "code",
   "execution_count": 13,
   "metadata": {},
   "outputs": [
    {
     "data": {
      "text/html": [
       "<div>\n",
       "<style scoped>\n",
       "    .dataframe tbody tr th:only-of-type {\n",
       "        vertical-align: middle;\n",
       "    }\n",
       "\n",
       "    .dataframe tbody tr th {\n",
       "        vertical-align: top;\n",
       "    }\n",
       "\n",
       "    .dataframe thead th {\n",
       "        text-align: right;\n",
       "    }\n",
       "</style>\n",
       "<table border=\"1\" class=\"dataframe\">\n",
       "  <thead>\n",
       "    <tr style=\"text-align: right;\">\n",
       "      <th></th>\n",
       "      <th>아우터</th>\n",
       "      <th>상의</th>\n",
       "      <th>하의</th>\n",
       "      <th>기타</th>\n",
       "      <th>한벌옷</th>\n",
       "      <th>신발</th>\n",
       "    </tr>\n",
       "  </thead>\n",
       "  <tbody>\n",
       "    <tr>\n",
       "      <th>품목별판매량</th>\n",
       "      <td>259</td>\n",
       "      <td>339</td>\n",
       "      <td>124</td>\n",
       "      <td>50</td>\n",
       "      <td>14</td>\n",
       "      <td>84</td>\n",
       "    </tr>\n",
       "  </tbody>\n",
       "</table>\n",
       "</div>"
      ],
      "text/plain": [
       "        아우터   상의   하의  기타  한벌옷  신발\n",
       "품목별판매량  259  339  124  50   14  84"
      ]
     },
     "execution_count": 13,
     "metadata": {},
     "output_type": "execute_result"
    }
   ],
   "source": [
    "subs[['아우터','상의','하의','기타','한벌옷','신발']] = (259,339,124,50,14,84)\n",
    "subs"
   ]
  }
 ],
 "metadata": {
  "kernelspec": {
   "display_name": "Python 3",
   "language": "python",
   "name": "python3"
  },
  "language_info": {
   "codemirror_mode": {
    "name": "ipython",
    "version": 3
   },
   "file_extension": ".py",
   "mimetype": "text/x-python",
   "name": "python",
   "nbconvert_exporter": "python",
   "pygments_lexer": "ipython3",
   "version": "3.7.6"
  }
 },
 "nbformat": 4,
 "nbformat_minor": 5
}
