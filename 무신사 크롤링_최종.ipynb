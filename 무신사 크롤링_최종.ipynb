{
 "cells": [
  {
   "cell_type": "code",
   "execution_count": 1,
   "metadata": {},
   "outputs": [],
   "source": [
    "# 라이브러리 임포트\n",
    "\n",
    "import requests\n",
    "import pandas as pd\n",
    "import numpy as np\n",
    "import time\n",
    "from bs4 import BeautifulSoup"
   ]
  },
  {
   "cell_type": "code",
   "execution_count": 2,
   "metadata": {},
   "outputs": [
    {
     "name": "stdout",
     "output_type": "stream",
     "text": [
      "1번째 페이지 조회 완료\n",
      "2번째 페이지 조회 완료\n",
      "3번째 페이지 조회 완료\n",
      "4번째 페이지 조회 완료\n",
      "5번째 페이지 조회 완료\n",
      "6번째 페이지 조회 완료\n",
      "7번째 페이지 조회 완료\n",
      "8번째 페이지 조회 완료\n",
      "9번째 페이지 조회 완료\n",
      "10번째 페이지 조회 완료\n"
     ]
    }
   ],
   "source": [
    "name_list=[]\n",
    "price_list=[]\n",
    "sell_price=[]\n",
    "\n",
    "for i in range(1, 11):\n",
    "    r = requests.get(\"https://www.musinsa.com/ranking/best?period=month&page=%s\" % i)\n",
    "    musinsa_raw_code = r.text\n",
    "    parsed_code = BeautifulSoup(musinsa_raw_code)\n",
    "    price_raw = parsed_code.find_all(\"p\", class_=\"price\")\n",
    "    name_raw = parsed_code.find_all(\"p\",class_=\"list_info\")\n",
    "#     count = 0\n",
    "    \n",
    "    for name in name_raw:\n",
    "        try:\n",
    "            name_list.append(name.find(\"a\")['title'])\n",
    "        except:\n",
    "            pass\n",
    "        \n",
    "    for price in price_raw: \n",
    "#         count+=1\n",
    "        if(price.find('del')):\n",
    "            price.find('del').decompose()\n",
    "            price_list.append(price.text.strip())\n",
    "        else:\n",
    "            price_list.append(price.text.strip())\n",
    "    \n",
    "    \n",
    "    print(\"%s번째 페이지 조회 완료\" % i)\n",
    "    time.sleep(2)"
   ]
  },
  {
   "cell_type": "code",
   "execution_count": 3,
   "metadata": {},
   "outputs": [
    {
     "data": {
      "text/plain": [
       "900"
      ]
     },
     "execution_count": 3,
     "metadata": {},
     "output_type": "execute_result"
    }
   ],
   "source": [
    "len(name_list)"
   ]
  },
  {
   "cell_type": "code",
   "execution_count": 4,
   "metadata": {},
   "outputs": [
    {
     "data": {
      "text/plain": [
       "900"
      ]
     },
     "execution_count": 4,
     "metadata": {},
     "output_type": "execute_result"
    }
   ],
   "source": [
    "len(price_list)"
   ]
  },
  {
   "cell_type": "code",
   "execution_count": 5,
   "metadata": {},
   "outputs": [
    {
     "data": {
      "text/html": [
       "<div>\n",
       "<style scoped>\n",
       "    .dataframe tbody tr th:only-of-type {\n",
       "        vertical-align: middle;\n",
       "    }\n",
       "\n",
       "    .dataframe tbody tr th {\n",
       "        vertical-align: top;\n",
       "    }\n",
       "\n",
       "    .dataframe thead th {\n",
       "        text-align: right;\n",
       "    }\n",
       "</style>\n",
       "<table border=\"1\" class=\"dataframe\">\n",
       "  <thead>\n",
       "    <tr style=\"text-align: right;\">\n",
       "      <th></th>\n",
       "      <th>상품명</th>\n",
       "    </tr>\n",
       "  </thead>\n",
       "  <tbody>\n",
       "    <tr>\n",
       "      <th>0</th>\n",
       "      <td>(22FW) 2 TONE ARCH HOODIE GRAY</td>\n",
       "    </tr>\n",
       "    <tr>\n",
       "      <th>1</th>\n",
       "      <td>원턱 와이드 스웨트팬츠 그레이</td>\n",
       "    </tr>\n",
       "    <tr>\n",
       "      <th>2</th>\n",
       "      <td>Deep One Tuck Sweat Pants [Grey]</td>\n",
       "    </tr>\n",
       "    <tr>\n",
       "      <th>3</th>\n",
       "      <td>2WAY 스웻 후드 집업 (MELANGE GREY)</td>\n",
       "    </tr>\n",
       "    <tr>\n",
       "      <th>4</th>\n",
       "      <td>레플리카 퍼티그 팬츠 [카키]</td>\n",
       "    </tr>\n",
       "    <tr>\n",
       "      <th>...</th>\n",
       "      <td>...</td>\n",
       "    </tr>\n",
       "    <tr>\n",
       "      <th>895</th>\n",
       "      <td>N224WFJ910 여성 코스토니 플리스 뽀글이 후드 풀집업 CARBON BLACK</td>\n",
       "    </tr>\n",
       "    <tr>\n",
       "      <th>896</th>\n",
       "      <td>스웨트 팬츠 [멜란지 그레이]</td>\n",
       "    </tr>\n",
       "    <tr>\n",
       "      <th>897</th>\n",
       "      <td>oam.factory X PLAC  스텝 M22 미드 블루</td>\n",
       "    </tr>\n",
       "    <tr>\n",
       "      <th>898</th>\n",
       "      <td>Max_bl</td>\n",
       "    </tr>\n",
       "    <tr>\n",
       "      <th>899</th>\n",
       "      <td>아크 로고 후디 (네이비)</td>\n",
       "    </tr>\n",
       "  </tbody>\n",
       "</table>\n",
       "<p>900 rows × 1 columns</p>\n",
       "</div>"
      ],
      "text/plain": [
       "                                                상품명\n",
       "0                    (22FW) 2 TONE ARCH HOODIE GRAY\n",
       "1                                  원턱 와이드 스웨트팬츠 그레이\n",
       "2                  Deep One Tuck Sweat Pants [Grey]\n",
       "3                      2WAY 스웻 후드 집업 (MELANGE GREY)\n",
       "4                                  레플리카 퍼티그 팬츠 [카키]\n",
       "..                                              ...\n",
       "895  N224WFJ910 여성 코스토니 플리스 뽀글이 후드 풀집업 CARBON BLACK\n",
       "896                                스웨트 팬츠 [멜란지 그레이]\n",
       "897                oam.factory X PLAC  스텝 M22 미드 블루\n",
       "898                                          Max_bl\n",
       "899                                  아크 로고 후디 (네이비)\n",
       "\n",
       "[900 rows x 1 columns]"
      ]
     },
     "execution_count": 5,
     "metadata": {},
     "output_type": "execute_result"
    }
   ],
   "source": [
    "# df1 = 상품명\n",
    "n=[]\n",
    "p=[]\n",
    "for i in range(len(name_list)):\n",
    "    n.append(i)\n",
    "for j in range(len(price_list)):\n",
    "    p.append(j)\n",
    "df1 = pd.DataFrame(name_list,index=pd.Index(n),columns=['상품명'])\n",
    "df1"
   ]
  },
  {
   "cell_type": "code",
   "execution_count": 6,
   "metadata": {},
   "outputs": [
    {
     "data": {
      "text/html": [
       "<div>\n",
       "<style scoped>\n",
       "    .dataframe tbody tr th:only-of-type {\n",
       "        vertical-align: middle;\n",
       "    }\n",
       "\n",
       "    .dataframe tbody tr th {\n",
       "        vertical-align: top;\n",
       "    }\n",
       "\n",
       "    .dataframe thead th {\n",
       "        text-align: right;\n",
       "    }\n",
       "</style>\n",
       "<table border=\"1\" class=\"dataframe\">\n",
       "  <thead>\n",
       "    <tr style=\"text-align: right;\">\n",
       "      <th></th>\n",
       "      <th>가격</th>\n",
       "    </tr>\n",
       "  </thead>\n",
       "  <tbody>\n",
       "    <tr>\n",
       "      <th>0</th>\n",
       "      <td>67,150원</td>\n",
       "    </tr>\n",
       "    <tr>\n",
       "      <th>1</th>\n",
       "      <td>36,400원</td>\n",
       "    </tr>\n",
       "    <tr>\n",
       "      <th>2</th>\n",
       "      <td>39,000원</td>\n",
       "    </tr>\n",
       "    <tr>\n",
       "      <th>3</th>\n",
       "      <td>42,000원</td>\n",
       "    </tr>\n",
       "    <tr>\n",
       "      <th>4</th>\n",
       "      <td>43,900원</td>\n",
       "    </tr>\n",
       "    <tr>\n",
       "      <th>...</th>\n",
       "      <td>...</td>\n",
       "    </tr>\n",
       "    <tr>\n",
       "      <th>895</th>\n",
       "      <td>159,000원</td>\n",
       "    </tr>\n",
       "    <tr>\n",
       "      <th>896</th>\n",
       "      <td>31,900원</td>\n",
       "    </tr>\n",
       "    <tr>\n",
       "      <th>897</th>\n",
       "      <td>89,000원</td>\n",
       "    </tr>\n",
       "    <tr>\n",
       "      <th>898</th>\n",
       "      <td>265,500원</td>\n",
       "    </tr>\n",
       "    <tr>\n",
       "      <th>899</th>\n",
       "      <td>59,040원</td>\n",
       "    </tr>\n",
       "  </tbody>\n",
       "</table>\n",
       "<p>900 rows × 1 columns</p>\n",
       "</div>"
      ],
      "text/plain": [
       "           가격\n",
       "0     67,150원\n",
       "1     36,400원\n",
       "2     39,000원\n",
       "3     42,000원\n",
       "4     43,900원\n",
       "..        ...\n",
       "895  159,000원\n",
       "896   31,900원\n",
       "897   89,000원\n",
       "898  265,500원\n",
       "899   59,040원\n",
       "\n",
       "[900 rows x 1 columns]"
      ]
     },
     "execution_count": 6,
     "metadata": {},
     "output_type": "execute_result"
    }
   ],
   "source": [
    "# df2 = 가격\n",
    "df2 = pd.DataFrame(price_list,index=pd.Index(p),columns=['가격'])\n",
    "df2"
   ]
  },
  {
   "cell_type": "code",
   "execution_count": 7,
   "metadata": {},
   "outputs": [
    {
     "data": {
      "text/html": [
       "<div>\n",
       "<style scoped>\n",
       "    .dataframe tbody tr th:only-of-type {\n",
       "        vertical-align: middle;\n",
       "    }\n",
       "\n",
       "    .dataframe tbody tr th {\n",
       "        vertical-align: top;\n",
       "    }\n",
       "\n",
       "    .dataframe thead th {\n",
       "        text-align: right;\n",
       "    }\n",
       "</style>\n",
       "<table border=\"1\" class=\"dataframe\">\n",
       "  <thead>\n",
       "    <tr style=\"text-align: right;\">\n",
       "      <th></th>\n",
       "      <th>상품명</th>\n",
       "      <th>가격</th>\n",
       "    </tr>\n",
       "  </thead>\n",
       "  <tbody>\n",
       "    <tr>\n",
       "      <th>0</th>\n",
       "      <td>(22FW) 2 TONE ARCH HOODIE GRAY</td>\n",
       "      <td>67,150원</td>\n",
       "    </tr>\n",
       "    <tr>\n",
       "      <th>1</th>\n",
       "      <td>원턱 와이드 스웨트팬츠 그레이</td>\n",
       "      <td>36,400원</td>\n",
       "    </tr>\n",
       "    <tr>\n",
       "      <th>2</th>\n",
       "      <td>Deep One Tuck Sweat Pants [Grey]</td>\n",
       "      <td>39,000원</td>\n",
       "    </tr>\n",
       "    <tr>\n",
       "      <th>3</th>\n",
       "      <td>2WAY 스웻 후드 집업 (MELANGE GREY)</td>\n",
       "      <td>42,000원</td>\n",
       "    </tr>\n",
       "    <tr>\n",
       "      <th>4</th>\n",
       "      <td>레플리카 퍼티그 팬츠 [카키]</td>\n",
       "      <td>43,900원</td>\n",
       "    </tr>\n",
       "  </tbody>\n",
       "</table>\n",
       "</div>"
      ],
      "text/plain": [
       "                                상품명       가격\n",
       "0    (22FW) 2 TONE ARCH HOODIE GRAY  67,150원\n",
       "1                  원턱 와이드 스웨트팬츠 그레이  36,400원\n",
       "2  Deep One Tuck Sweat Pants [Grey]  39,000원\n",
       "3      2WAY 스웻 후드 집업 (MELANGE GREY)  42,000원\n",
       "4                  레플리카 퍼티그 팬츠 [카키]  43,900원"
      ]
     },
     "execution_count": 7,
     "metadata": {},
     "output_type": "execute_result"
    }
   ],
   "source": [
    "# 상품명과 가격을 열 방향으로 로우를 기준으로 합침 axis=1\n",
    "result = pd.concat([df1,df2],axis=1)\n",
    "result.head()"
   ]
  },
  {
   "cell_type": "code",
   "execution_count": null,
   "metadata": {},
   "outputs": [],
   "source": [
    "# csv 파일 저장\n",
    "result.to_csv('product_nameprice.csv',encoding='cp949')"
   ]
  }
 ],
 "metadata": {
  "kernelspec": {
   "display_name": "Python 3",
   "language": "python",
   "name": "python3"
  },
  "language_info": {
   "codemirror_mode": {
    "name": "ipython",
    "version": 3
   },
   "file_extension": ".py",
   "mimetype": "text/x-python",
   "name": "python",
   "nbconvert_exporter": "python",
   "pygments_lexer": "ipython3",
   "version": "3.7.6"
  }
 },
 "nbformat": 4,
 "nbformat_minor": 5
}
