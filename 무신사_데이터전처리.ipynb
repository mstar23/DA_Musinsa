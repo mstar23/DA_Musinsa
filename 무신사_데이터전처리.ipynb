{
 "cells": [
  {
   "cell_type": "code",
   "execution_count": 1,
   "metadata": {},
   "outputs": [],
   "source": [
    "import numpy as np\n",
    "import pandas as pd"
   ]
  },
  {
   "cell_type": "code",
   "execution_count": 2,
   "metadata": {},
   "outputs": [
    {
     "data": {
      "text/html": [
       "<div>\n",
       "<style scoped>\n",
       "    .dataframe tbody tr th:only-of-type {\n",
       "        vertical-align: middle;\n",
       "    }\n",
       "\n",
       "    .dataframe tbody tr th {\n",
       "        vertical-align: top;\n",
       "    }\n",
       "\n",
       "    .dataframe thead th {\n",
       "        text-align: right;\n",
       "    }\n",
       "</style>\n",
       "<table border=\"1\" class=\"dataframe\">\n",
       "  <thead>\n",
       "    <tr style=\"text-align: right;\">\n",
       "      <th></th>\n",
       "      <th>Unnamed: 0</th>\n",
       "      <th>상품명</th>\n",
       "      <th>가격</th>\n",
       "    </tr>\n",
       "  </thead>\n",
       "  <tbody>\n",
       "    <tr>\n",
       "      <th>0</th>\n",
       "      <td>0</td>\n",
       "      <td>(22FW) 2 TONE ARCH HOODIE GRAY</td>\n",
       "      <td>67,150원</td>\n",
       "    </tr>\n",
       "    <tr>\n",
       "      <th>1</th>\n",
       "      <td>1</td>\n",
       "      <td>원턱 와이드 스웨트팬츠 그레이</td>\n",
       "      <td>36,400원</td>\n",
       "    </tr>\n",
       "    <tr>\n",
       "      <th>2</th>\n",
       "      <td>2</td>\n",
       "      <td>Deep One Tuck Sweat Pants [Grey]</td>\n",
       "      <td>39,000원</td>\n",
       "    </tr>\n",
       "    <tr>\n",
       "      <th>3</th>\n",
       "      <td>3</td>\n",
       "      <td>2WAY 스웻 후드 집업 (MELANGE GREY)</td>\n",
       "      <td>42,000원</td>\n",
       "    </tr>\n",
       "    <tr>\n",
       "      <th>4</th>\n",
       "      <td>4</td>\n",
       "      <td>레플리카 퍼티그 팬츠 [카키]</td>\n",
       "      <td>43,900원</td>\n",
       "    </tr>\n",
       "  </tbody>\n",
       "</table>\n",
       "</div>"
      ],
      "text/plain": [
       "   Unnamed: 0                               상품명       가격\n",
       "0           0    (22FW) 2 TONE ARCH HOODIE GRAY  67,150원\n",
       "1           1                  원턱 와이드 스웨트팬츠 그레이  36,400원\n",
       "2           2  Deep One Tuck Sweat Pants [Grey]  39,000원\n",
       "3           3      2WAY 스웻 후드 집업 (MELANGE GREY)  42,000원\n",
       "4           4                  레플리카 퍼티그 팬츠 [카키]  43,900원"
      ]
     },
     "execution_count": 2,
     "metadata": {},
     "output_type": "execute_result"
    }
   ],
   "source": [
    "df = pd.read_csv('product_nameprice.csv',encoding='cp949')\n",
    "df.head()"
   ]
  },
  {
   "cell_type": "code",
   "execution_count": 3,
   "metadata": {},
   "outputs": [],
   "source": [
    "df.drop('Unnamed: 0',axis=1,inplace=True)"
   ]
  },
  {
   "cell_type": "code",
   "execution_count": 4,
   "metadata": {},
   "outputs": [
    {
     "data": {
      "text/html": [
       "<div>\n",
       "<style scoped>\n",
       "    .dataframe tbody tr th:only-of-type {\n",
       "        vertical-align: middle;\n",
       "    }\n",
       "\n",
       "    .dataframe tbody tr th {\n",
       "        vertical-align: top;\n",
       "    }\n",
       "\n",
       "    .dataframe thead th {\n",
       "        text-align: right;\n",
       "    }\n",
       "</style>\n",
       "<table border=\"1\" class=\"dataframe\">\n",
       "  <thead>\n",
       "    <tr style=\"text-align: right;\">\n",
       "      <th></th>\n",
       "      <th>상품명</th>\n",
       "      <th>가격</th>\n",
       "    </tr>\n",
       "  </thead>\n",
       "  <tbody>\n",
       "    <tr>\n",
       "      <th>0</th>\n",
       "      <td>(22FW) 2 TONE ARCH HOODIE GRAY</td>\n",
       "      <td>67,150원</td>\n",
       "    </tr>\n",
       "    <tr>\n",
       "      <th>1</th>\n",
       "      <td>원턱 와이드 스웨트팬츠 그레이</td>\n",
       "      <td>36,400원</td>\n",
       "    </tr>\n",
       "    <tr>\n",
       "      <th>2</th>\n",
       "      <td>Deep One Tuck Sweat Pants [Grey]</td>\n",
       "      <td>39,000원</td>\n",
       "    </tr>\n",
       "    <tr>\n",
       "      <th>3</th>\n",
       "      <td>2WAY 스웻 후드 집업 (MELANGE GREY)</td>\n",
       "      <td>42,000원</td>\n",
       "    </tr>\n",
       "    <tr>\n",
       "      <th>4</th>\n",
       "      <td>레플리카 퍼티그 팬츠 [카키]</td>\n",
       "      <td>43,900원</td>\n",
       "    </tr>\n",
       "  </tbody>\n",
       "</table>\n",
       "</div>"
      ],
      "text/plain": [
       "                                상품명       가격\n",
       "0    (22FW) 2 TONE ARCH HOODIE GRAY  67,150원\n",
       "1                  원턱 와이드 스웨트팬츠 그레이  36,400원\n",
       "2  Deep One Tuck Sweat Pants [Grey]  39,000원\n",
       "3      2WAY 스웻 후드 집업 (MELANGE GREY)  42,000원\n",
       "4                  레플리카 퍼티그 팬츠 [카키]  43,900원"
      ]
     },
     "execution_count": 4,
     "metadata": {},
     "output_type": "execute_result"
    }
   ],
   "source": [
    "df.head()"
   ]
  },
  {
   "cell_type": "code",
   "execution_count": 5,
   "metadata": {},
   "outputs": [],
   "source": [
    "df.index.rename('번호',inplace=True)"
   ]
  },
  {
   "cell_type": "code",
   "execution_count": 6,
   "metadata": {},
   "outputs": [
    {
     "data": {
      "text/html": [
       "<div>\n",
       "<style scoped>\n",
       "    .dataframe tbody tr th:only-of-type {\n",
       "        vertical-align: middle;\n",
       "    }\n",
       "\n",
       "    .dataframe tbody tr th {\n",
       "        vertical-align: top;\n",
       "    }\n",
       "\n",
       "    .dataframe thead th {\n",
       "        text-align: right;\n",
       "    }\n",
       "</style>\n",
       "<table border=\"1\" class=\"dataframe\">\n",
       "  <thead>\n",
       "    <tr style=\"text-align: right;\">\n",
       "      <th></th>\n",
       "      <th>상품명</th>\n",
       "      <th>가격</th>\n",
       "    </tr>\n",
       "    <tr>\n",
       "      <th>번호</th>\n",
       "      <th></th>\n",
       "      <th></th>\n",
       "    </tr>\n",
       "  </thead>\n",
       "  <tbody>\n",
       "    <tr>\n",
       "      <th>0</th>\n",
       "      <td>(22FW) 2 TONE ARCH HOODIE GRAY</td>\n",
       "      <td>67,150원</td>\n",
       "    </tr>\n",
       "    <tr>\n",
       "      <th>1</th>\n",
       "      <td>원턱 와이드 스웨트팬츠 그레이</td>\n",
       "      <td>36,400원</td>\n",
       "    </tr>\n",
       "    <tr>\n",
       "      <th>2</th>\n",
       "      <td>Deep One Tuck Sweat Pants [Grey]</td>\n",
       "      <td>39,000원</td>\n",
       "    </tr>\n",
       "    <tr>\n",
       "      <th>3</th>\n",
       "      <td>2WAY 스웻 후드 집업 (MELANGE GREY)</td>\n",
       "      <td>42,000원</td>\n",
       "    </tr>\n",
       "    <tr>\n",
       "      <th>4</th>\n",
       "      <td>레플리카 퍼티그 팬츠 [카키]</td>\n",
       "      <td>43,900원</td>\n",
       "    </tr>\n",
       "  </tbody>\n",
       "</table>\n",
       "</div>"
      ],
      "text/plain": [
       "                                 상품명       가격\n",
       "번호                                           \n",
       "0     (22FW) 2 TONE ARCH HOODIE GRAY  67,150원\n",
       "1                   원턱 와이드 스웨트팬츠 그레이  36,400원\n",
       "2   Deep One Tuck Sweat Pants [Grey]  39,000원\n",
       "3       2WAY 스웻 후드 집업 (MELANGE GREY)  42,000원\n",
       "4                   레플리카 퍼티그 팬츠 [카키]  43,900원"
      ]
     },
     "execution_count": 6,
     "metadata": {},
     "output_type": "execute_result"
    }
   ],
   "source": [
    "df.head()"
   ]
  },
  {
   "cell_type": "code",
   "execution_count": 7,
   "metadata": {},
   "outputs": [
    {
     "data": {
      "text/html": [
       "<div>\n",
       "<style scoped>\n",
       "    .dataframe tbody tr th:only-of-type {\n",
       "        vertical-align: middle;\n",
       "    }\n",
       "\n",
       "    .dataframe tbody tr th {\n",
       "        vertical-align: top;\n",
       "    }\n",
       "\n",
       "    .dataframe thead th {\n",
       "        text-align: right;\n",
       "    }\n",
       "</style>\n",
       "<table border=\"1\" class=\"dataframe\">\n",
       "  <thead>\n",
       "    <tr style=\"text-align: right;\">\n",
       "      <th></th>\n",
       "      <th>상품명</th>\n",
       "      <th>가격</th>\n",
       "    </tr>\n",
       "    <tr>\n",
       "      <th>번호</th>\n",
       "      <th></th>\n",
       "      <th></th>\n",
       "    </tr>\n",
       "  </thead>\n",
       "  <tbody>\n",
       "    <tr>\n",
       "      <th>2</th>\n",
       "      <td>Deep One Tuck Sweat Pants [Grey]</td>\n",
       "      <td>39,000원</td>\n",
       "    </tr>\n",
       "    <tr>\n",
       "      <th>52</th>\n",
       "      <td>Deep One Tuck Sweat Pants [Black]</td>\n",
       "      <td>39,000원</td>\n",
       "    </tr>\n",
       "    <tr>\n",
       "      <th>130</th>\n",
       "      <td>Wide String Cargo Slacks Pants Black</td>\n",
       "      <td>39,000원</td>\n",
       "    </tr>\n",
       "    <tr>\n",
       "      <th>160</th>\n",
       "      <td>Classic Sweat Pants [Grey]</td>\n",
       "      <td>39,000원</td>\n",
       "    </tr>\n",
       "    <tr>\n",
       "      <th>277</th>\n",
       "      <td>Banding One Tuck Wide Denim Pants - Deep Blue</td>\n",
       "      <td>49,000원</td>\n",
       "    </tr>\n",
       "    <tr>\n",
       "      <th>439</th>\n",
       "      <td>Classic Sweat Pants [Black]</td>\n",
       "      <td>39,000원</td>\n",
       "    </tr>\n",
       "    <tr>\n",
       "      <th>476</th>\n",
       "      <td>Deep One Tuck Sweat Pants [White Grey]</td>\n",
       "      <td>39,000원</td>\n",
       "    </tr>\n",
       "    <tr>\n",
       "      <th>526</th>\n",
       "      <td>Classic String Sweat Pants [Grey]</td>\n",
       "      <td>39,000원</td>\n",
       "    </tr>\n",
       "    <tr>\n",
       "      <th>558</th>\n",
       "      <td>Banding One Tuck Wide Denim Pants - Black</td>\n",
       "      <td>49,000원</td>\n",
       "    </tr>\n",
       "  </tbody>\n",
       "</table>\n",
       "</div>"
      ],
      "text/plain": [
       "                                               상품명       가격\n",
       "번호                                                         \n",
       "2                 Deep One Tuck Sweat Pants [Grey]  39,000원\n",
       "52               Deep One Tuck Sweat Pants [Black]  39,000원\n",
       "130           Wide String Cargo Slacks Pants Black  39,000원\n",
       "160                     Classic Sweat Pants [Grey]  39,000원\n",
       "277  Banding One Tuck Wide Denim Pants - Deep Blue  49,000원\n",
       "439                    Classic Sweat Pants [Black]  39,000원\n",
       "476         Deep One Tuck Sweat Pants [White Grey]  39,000원\n",
       "526              Classic String Sweat Pants [Grey]  39,000원\n",
       "558      Banding One Tuck Wide Denim Pants - Black  49,000원"
      ]
     },
     "execution_count": 7,
     "metadata": {},
     "output_type": "execute_result"
    }
   ],
   "source": [
    "pants = df[df['상품명'].str.contains('Pants')]\n",
    "pants"
   ]
  },
  {
   "cell_type": "code",
   "execution_count": 8,
   "metadata": {},
   "outputs": [
    {
     "data": {
      "text/plain": [
       "116"
      ]
     },
     "execution_count": 8,
     "metadata": {},
     "output_type": "execute_result"
    }
   ],
   "source": [
    "pants = df[df['상품명'].str.contains('JEANS')|df['상품명'].str.contains('슬랙스')|df['상품명'].str.contains('팬츠')|df['상품명'].str.contains('Pants')|df['상품명'].str.contains('Cowboy')|df['상품명'].str.contains('조거')|df['상품명'].str.contains('jogger')]\n",
    "len(pants)"
   ]
  },
  {
   "cell_type": "code",
   "execution_count": 9,
   "metadata": {},
   "outputs": [
    {
     "data": {
      "text/plain": [
       "332"
      ]
     },
     "execution_count": 9,
     "metadata": {},
     "output_type": "execute_result"
    }
   ],
   "source": [
    "shirt = df[df['상품명'].str.contains('HOODIE')|df['상품명'].str.contains('후드')|df['상품명'].str.contains('니트')|df['상품명'].str.contains('집업')|df['상품명'].str.contains('맨투맨')|df['상품명'].str.contains('반팔')|df['상품명'].str.contains('티셔츠')|df['상품명'].str.contains('셔츠')|df['상품명'].str.contains('가디건')|df['상품명'].str.contains('Sweat')|df['상품명'].str.contains('티')]\n",
    "len(shirt)"
   ]
  },
  {
   "cell_type": "code",
   "execution_count": 10,
   "metadata": {},
   "outputs": [
    {
     "data": {
      "text/plain": [
       "247"
      ]
     },
     "execution_count": 10,
     "metadata": {},
     "output_type": "execute_result"
    }
   ],
   "source": [
    "outer = df[df['상품명'].str.contains('자켓')|df['상품명'].str.contains('점퍼')|df['상품명'].str.contains('블레이저')|df['상품명'].str.contains('블루종')|df['상품명'].str.contains('파카')|df['상품명'].str.contains('코트')|df['상품명'].str.contains('COAT')|df['상품명'].str.contains('푸퍼')|df['상품명'].str.contains('JACKET')|df['상품명'].str.contains('패딩')|df['상품명'].str.contains('가디건')|df['상품명'].str.contains('MA-1')|df['상품명'].str.contains('parka')|df['상품명'].str.contains('저지')|df['상품명'].str.contains('덕다운')|df['상품명'].str.contains('DUCK')]\n",
    "len(outer)"
   ]
  },
  {
   "cell_type": "code",
   "execution_count": 11,
   "metadata": {},
   "outputs": [
    {
     "data": {
      "text/plain": [
       "14"
      ]
     },
     "execution_count": 11,
     "metadata": {},
     "output_type": "execute_result"
    }
   ],
   "source": [
    "setup= df[df['상품명'].str.contains('셋업')]\n",
    "len(setup)"
   ]
  },
  {
   "cell_type": "code",
   "execution_count": 12,
   "metadata": {},
   "outputs": [
    {
     "data": {
      "text/plain": [
       "39"
      ]
     },
     "execution_count": 12,
     "metadata": {},
     "output_type": "execute_result"
    }
   ],
   "source": [
    "etc = df[df['상품명'].str.contains('백')|df['상품명'].str.contains('삭스')|df['상품명'].str.contains('팬티')|df['상품명'].str.contains('드로즈')|df['상품명'].str.contains('모자')|df['상품명'].str.contains('캡')|df['상품명'].str.contains('cap')|df['상품명'].str.contains('pack')]\n",
    "len(etc)"
   ]
  },
  {
   "cell_type": "code",
   "execution_count": 13,
   "metadata": {},
   "outputs": [
    {
     "data": {
      "text/plain": [
       "78"
      ]
     },
     "execution_count": 13,
     "metadata": {},
     "output_type": "execute_result"
    }
   ],
   "source": [
    "shoes=df[df['상품명'].str.contains('척 70')|df['상품명'].str.contains('올드스쿨')|df['상품명'].str.contains('슈퍼스타')|df['상품명'].str.contains('첼시')|df['상품명'].str.contains('젤')|df['상품명'].str.contains('슈즈')|df['상품명'].str.contains('스타일 36')|df['상품명'].str.contains('데이브레이크')|df['상품명'].str.contains('운동화')|df['상품명'].str.contains('오즈위고')|df['상품명'].str.contains('스니커즈')|df['상품명'].str.contains('슬라이드')|df['상품명'].str.contains('BW')|df['상품명'].str.contains('어센틱')|df['상품명'].str.contains('1461')|df['상품명'].str.contains('xt-6')]\n",
    "len(shoes)"
   ]
  },
  {
   "cell_type": "code",
   "execution_count": 14,
   "metadata": {},
   "outputs": [
    {
     "data": {
      "text/html": [
       "<div>\n",
       "<style scoped>\n",
       "    .dataframe tbody tr th:only-of-type {\n",
       "        vertical-align: middle;\n",
       "    }\n",
       "\n",
       "    .dataframe tbody tr th {\n",
       "        vertical-align: top;\n",
       "    }\n",
       "\n",
       "    .dataframe thead th {\n",
       "        text-align: right;\n",
       "    }\n",
       "</style>\n",
       "<table border=\"1\" class=\"dataframe\">\n",
       "  <thead>\n",
       "    <tr style=\"text-align: right;\">\n",
       "      <th></th>\n",
       "      <th>상품명</th>\n",
       "      <th>가격</th>\n",
       "    </tr>\n",
       "  </thead>\n",
       "  <tbody>\n",
       "    <tr>\n",
       "      <th>0</th>\n",
       "      <td>오버핏 비건레더 싱글 자켓</td>\n",
       "      <td>89,000원</td>\n",
       "    </tr>\n",
       "    <tr>\n",
       "      <th>1</th>\n",
       "      <td>N224MDW920 헤론 U넥 경량 다운 점퍼 CARBON BLACK</td>\n",
       "      <td>149,000원</td>\n",
       "    </tr>\n",
       "    <tr>\n",
       "      <th>2</th>\n",
       "      <td>MA-1 레귤러 Black</td>\n",
       "      <td>279,000원</td>\n",
       "    </tr>\n",
       "    <tr>\n",
       "      <th>3</th>\n",
       "      <td>릴렉스드 베이식 블레이저 [블랙]</td>\n",
       "      <td>81,900원</td>\n",
       "    </tr>\n",
       "    <tr>\n",
       "      <th>4</th>\n",
       "      <td>버핑레더 오버핏 블루종_Black</td>\n",
       "      <td>69,900원</td>\n",
       "    </tr>\n",
       "    <tr>\n",
       "      <th>...</th>\n",
       "      <td>...</td>\n",
       "      <td>...</td>\n",
       "    </tr>\n",
       "    <tr>\n",
       "      <th>821</th>\n",
       "      <td>홀리데이 시그니처 볼 캡 [그린]</td>\n",
       "      <td>35,100원</td>\n",
       "    </tr>\n",
       "    <tr>\n",
       "      <th>822</th>\n",
       "      <td>폴로 치노 베이스볼 캡-누벅</td>\n",
       "      <td>79,000원</td>\n",
       "    </tr>\n",
       "    <tr>\n",
       "      <th>823</th>\n",
       "      <td>앱솔루트 백팩 블랙</td>\n",
       "      <td>79,000원</td>\n",
       "    </tr>\n",
       "    <tr>\n",
       "      <th>824</th>\n",
       "      <td>버핑레더 문 슬링백_Black</td>\n",
       "      <td>39,900원</td>\n",
       "    </tr>\n",
       "    <tr>\n",
       "      <th>825</th>\n",
       "      <td>TCM bgc cap</td>\n",
       "      <td>39,000원</td>\n",
       "    </tr>\n",
       "  </tbody>\n",
       "</table>\n",
       "<p>826 rows × 2 columns</p>\n",
       "</div>"
      ],
      "text/plain": [
       "                                        상품명        가격\n",
       "0                            오버핏 비건레더 싱글 자켓   89,000원\n",
       "1    N224MDW920 헤론 U넥 경량 다운 점퍼 CARBON BLACK  149,000원\n",
       "2                            MA-1 레귤러 Black  279,000원\n",
       "3                        릴렉스드 베이식 블레이저 [블랙]   81,900원\n",
       "4                        버핑레더 오버핏 블루종_Black   69,900원\n",
       "..                                      ...       ...\n",
       "821                      홀리데이 시그니처 볼 캡 [그린]   35,100원\n",
       "822                         폴로 치노 베이스볼 캡-누벅   79,000원\n",
       "823                              앱솔루트 백팩 블랙   79,000원\n",
       "824                        버핑레더 문 슬링백_Black   39,900원\n",
       "825                             TCM bgc cap   39,000원\n",
       "\n",
       "[826 rows x 2 columns]"
      ]
     },
     "execution_count": 14,
     "metadata": {},
     "output_type": "execute_result"
    }
   ],
   "source": [
    "total = pd.concat([outer,shirt,pants,setup,shoes,etc],ignore_index=True)\n",
    "total"
   ]
  },
  {
   "cell_type": "code",
   "execution_count": 15,
   "metadata": {},
   "outputs": [],
   "source": [
    "total['가격'] = total['가격'].str.replace('원','')\n",
    "total['가격'] = total['가격'].str.replace(',','')"
   ]
  },
  {
   "cell_type": "code",
   "execution_count": 17,
   "metadata": {},
   "outputs": [
    {
     "data": {
      "text/plain": [
       "96117.10653753027"
      ]
     },
     "execution_count": 17,
     "metadata": {},
     "output_type": "execute_result"
    }
   ],
   "source": [
    "total['가격'] = total['가격'].astype('int')\n",
    "total['가격'].mean()"
   ]
  },
  {
   "cell_type": "code",
   "execution_count": null,
   "metadata": {},
   "outputs": [],
   "source": []
  },
  {
   "cell_type": "code",
   "execution_count": null,
   "metadata": {},
   "outputs": [],
   "source": []
  },
  {
   "cell_type": "code",
   "execution_count": null,
   "metadata": {},
   "outputs": [],
   "source": []
  },
  {
   "cell_type": "code",
   "execution_count": null,
   "metadata": {},
   "outputs": [],
   "source": []
  },
  {
   "cell_type": "code",
   "execution_count": null,
   "metadata": {},
   "outputs": [],
   "source": []
  },
  {
   "cell_type": "code",
   "execution_count": null,
   "metadata": {},
   "outputs": [],
   "source": []
  },
  {
   "cell_type": "code",
   "execution_count": null,
   "metadata": {},
   "outputs": [],
   "source": []
  }
 ],
 "metadata": {
  "kernelspec": {
   "display_name": "Python 3",
   "language": "python",
   "name": "python3"
  },
  "language_info": {
   "codemirror_mode": {
    "name": "ipython",
    "version": 3
   },
   "file_extension": ".py",
   "mimetype": "text/x-python",
   "name": "python",
   "nbconvert_exporter": "python",
   "pygments_lexer": "ipython3",
   "version": "3.7.6"
  }
 },
 "nbformat": 4,
 "nbformat_minor": 4
}
